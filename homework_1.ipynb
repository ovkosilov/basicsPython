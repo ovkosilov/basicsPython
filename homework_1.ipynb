{
 "cells": [
  {
   "cell_type": "markdown",
   "metadata": {},
   "source": [
    "# Основы Python"
   ]
  },
  {
   "cell_type": "markdown",
   "metadata": {},
   "source": [
    "Задание 1. Даны 2 строки: long_phrase и short_phrase. Напишите код, который проверяет действительно ли длинная фраза long_phrase длиннее короткой short_phrase. И выводит True или False в зависимости от результата сравнения"
   ]
  },
  {
   "cell_type": "code",
   "execution_count": 1,
   "metadata": {},
   "outputs": [],
   "source": [
    "long_phrase = 'Насколько проще было бы писать программы, если бы не заказчики'\n",
    "short_phrase = '640Кб должно хватить для любых задач. Билл Гейтс (по легенде)'"
   ]
  },
  {
   "cell_type": "code",
   "execution_count": 3,
   "metadata": {},
   "outputs": [
    {
     "data": {
      "text/plain": [
       "False"
      ]
     },
     "execution_count": 3,
     "metadata": {},
     "output_type": "execute_result"
    }
   ],
   "source": [
    "len('long_phrase') > len('short_phrase')"
   ]
  },
  {
   "cell_type": "markdown",
   "metadata": {},
   "source": [
    "Задание 2. Дано значение объема файла в байтах (в мегабайте 2^20 байт). Напишите перевод этого значения в мегабайты в формате: \"Объем файла равен 213.68Mb\"."
   ]
  },
  {
   "cell_type": "code",
   "execution_count": 10,
   "metadata": {},
   "outputs": [
    {
     "name": "stdout",
     "output_type": "stream",
     "text": [
      "224059719.68\n"
     ]
    }
   ],
   "source": [
    "file_size=213.68\n",
    "convert=file_size*(2**20)\n",
    "print(convert)"
   ]
  },
  {
   "cell_type": "markdown",
   "metadata": {},
   "source": [
    "Задание 3. Разработать приложение для определения знака зодиака по дате рождения. Пример:\n",
    "\n",
    "Введите месяц: март\n",
    "\n",
    "Введите число: 6\n",
    "\n",
    "Вывод: Рыбы"
   ]
  },
  {
   "cell_type": "code",
   "execution_count": 13,
   "metadata": {},
   "outputs": [
    {
     "name": "stdout",
     "output_type": "stream",
     "text": [
      "Определи свой знак зодиака\n",
      "Введите месяц: март\n",
      "Введите число: 6\n",
      "Рыбы\n",
      "Конец программы\n"
     ]
    }
   ],
   "source": [
    "print ('Определи свой знак зодиака')\n",
    "month = input ('Введите месяц: ')\n",
    "date = int(input ('Введите число: '))\n",
    "if month == \"январь\" and date > 0 and date <= 19:\n",
    "    print('Козерог')\n",
    "elif month == \"январь\" and date >= 20 and date <= 31:\n",
    "    print('Водолей')\n",
    "elif month == \"февраль\" and date > 0 and date <= 18:\n",
    "    print('Водолей')\n",
    "elif month == \"февраль\" and date >= 19 and date <= 29:\n",
    "    print('Рыбы')\n",
    "elif month == \"март\" and date > 0 and date <= 20:\n",
    "    print('Рыбы')\n",
    "elif month == \"март\" and date >= 21 and date <= 31:\n",
    "    print('Овен')\n",
    "elif month == \"апрель\" and date > 0 and date <= 20:\n",
    "    print('Овен')\n",
    "elif month == \"апрель\" and date >= 21 and date <= 30:\n",
    "    print('Телец')\n",
    "elif month == \"май\" and date > 0 and date <= 20:\n",
    "    print('Телец')\n",
    "elif month == \"май\" and date >= 21 and date <= 31:\n",
    "    print('Близнецы')\n",
    "elif month == \"июнь\" and date > 0 and date <= 20:\n",
    "    print('Близнецы')\n",
    "elif month == \"июнь\" and date >= 21 and date <= 30:\n",
    "    print('Рак')\n",
    "elif month == \"июль\" and date > 0 and date <= 22:\n",
    "    print('Рак')\n",
    "elif month == \"июль\" and date >= 23 and date <= 31:\n",
    "    print('Лев')\n",
    "elif month == \"август\" and date > 0 and date <= 22:\n",
    "    print('Лев')\n",
    "elif month == \"август\" and date >= 23 and date <= 31:\n",
    "    print('Дева')\n",
    "elif month == \"сентябрь\" and date > 0 and date <= 23:\n",
    "    print('Дева')\n",
    "elif month == \"сентябрь\" and date >= 24 and date <= 30:\n",
    "    print('Весы')\n",
    "elif month == \"октябрь\" and date > 0 and date <= 23:\n",
    "    print('Весы')\n",
    "elif month == \"октябрь\" and date >= 24 and date <= 31:\n",
    "    print('Скорпион')\n",
    "elif month == \"ноябрь\" and date > 0 and date <= 21:\n",
    "    print('Скорпион')\n",
    "elif month == \"ноябрь\" and date >= 22 and date <= 30:\n",
    "    print('Стрелец')\n",
    "elif month == \"ноябрь\" and date > 0 and date <= 21:\n",
    "    print('Стрелец')\n",
    "elif month == \"ноябрь\" and date >= 22 and date <= 31:\n",
    "    print('Козерог')\n",
    "else:\n",
    "    print('Не найдено')\n",
    "print('Конец программы')"
   ]
  },
  {
   "cell_type": "markdown",
   "metadata": {},
   "source": [
    "Задание 4. Нужно разработать приложение для финансового планирования. Приложение учитывает сколько уходит на ипотеку, \"на жизнь\" и сколько нужно отложить на пенсию. Пользователь вводит:\n",
    "\n",
    "заработанную плату в месяц.\n",
    "сколько процентов от ЗП уходит на ипотеку.\n",
    "сколько процентов от ЗП уходит \"на жизнь\".\n",
    "сколько раз приходит премия в год.\n",
    "Остальная часть заработанной платы откладывается на пенсию.\n",
    "\n",
    "Также пользователю приходит премия в размере зарплаты, от которой половина уходит на отпуск, а вторая половина откладывается.\n",
    "\n",
    "Программа должна учитывать сколько премий было в год.\n",
    "\n",
    "Нужно вывести сколько денег тратит пользователь на ипотеку и сколько он накопит за год.\n",
    "\n",
    "Пример:\n",
    "\n",
    "Введите заработанную плату в месяц: 100000\n",
    "\n",
    "Введите сколько процентов уходит на ипотеку: 30\n",
    "\n",
    "Введите сколько процентов уходит на жизнь: 50\n",
    "\n",
    "Введите количество премий за год: 2\n",
    "\n",
    "Вывод: На ипотеку было потрачено: 360000 рублей Было накоплено: 340000 рублей"
   ]
  },
  {
   "cell_type": "code",
   "execution_count": 32,
   "metadata": {},
   "outputs": [
    {
     "name": "stdout",
     "output_type": "stream",
     "text": [
      "Введите заработанную плату в месяц: 100000\n",
      "Введите сколько процентов уходит на ипотеку: 30\n",
      "Введите сколько процентов уходит на ипотеку: 50\n",
      "Введите количество премий за год: 2\n",
      "360000.0\n",
      "340000.0\n"
     ]
    }
   ],
   "source": [
    "salary = int(input ('Введите заработанную плату в месяц: '))\n",
    "mortgage_percent = int(input ('Введите сколько процентов уходит на ипотеку: '))\n",
    "life_percent = int(input ('Введите сколько процентов уходит на ипотеку: '))\n",
    "bonuse_number = int(input ('Введите количество премий за год: '))\n",
    "bonuse = int(salary)\n",
    "year_salary = salary*12\n",
    "year_mortgage_pay = year_salary*mortgage_percent/100\n",
    "year_life_pay = year_salary*life_percent/100\n",
    "year_vacation_pay = bonuse*bonuse_number*0.5\n",
    "year_pension_save = (year_salary - year_mortgage_pay - year_life_pay) + (bonuse*bonuse_number - year_vacation_pay)\n",
    "print(year_mortgage_pay)\n",
    "print(year_pension_save)"
   ]
  }
 ],
 "metadata": {
  "kernelspec": {
   "display_name": "Python 3",
   "language": "python",
   "name": "python3"
  },
  "language_info": {
   "codemirror_mode": {
    "name": "ipython",
    "version": 3
   },
   "file_extension": ".py",
   "mimetype": "text/x-python",
   "name": "python",
   "nbconvert_exporter": "python",
   "pygments_lexer": "ipython3",
   "version": "3.7.6"
  }
 },
 "nbformat": 4,
 "nbformat_minor": 2
}
